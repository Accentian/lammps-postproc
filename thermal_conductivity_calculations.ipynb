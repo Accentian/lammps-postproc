{
 "cells": [
  {
   "cell_type": "code",
   "execution_count": 1,
   "id": "153e989e",
   "metadata": {},
   "outputs": [],
   "source": [
    "import os, sys\n",
    "import shutil\n",
    "import numpy as np\n",
    "import matplotlib.pyplot as plt"
   ]
  },
  {
   "cell_type": "code",
   "execution_count": 16,
   "id": "ad525704",
   "metadata": {},
   "outputs": [
    {
     "name": "stdout",
     "output_type": "stream",
     "text": [
      "Thermal_CNT_0_25_1.96.log.lammps\n",
      "[0.05, 0.1, 0.15, 0.2, 0.25, 0.3, 0.35, 0.4, 0.45, 0.5, 0.55, 0.6, 0.65, 0.7, 0.75, 0.8, 0.85, 0.9, 0.95, 1.0, 1.05, 1.1, 1.15, 1.2, 1.25, 1.3, 1.35, 1.4, 1.45, 1.5, 1.55, 1.6, 1.65, 1.7, 1.75, 1.8, 1.85, 1.9, 1.95, 2.0, 2.05, 2.1, 2.15, 2.2, 2.25, 2.3, 2.35, 2.4, 2.45, 2.5, 2.55, 2.6, 2.65, 2.7, 2.75, 2.8, 2.85, 2.9, 2.95, 3.0, 3.05, 3.1, 3.15, 3.2, 3.25, 3.3, 3.35, 3.4, 3.45, 3.5, 3.55, 3.6, 3.65, 3.7, 3.75, 3.8, 3.85, 3.9, 3.95, 4.0, 4.05, 4.1, 4.15, 4.2, 4.25, 4.3, 4.35, 4.4, 4.45, 4.5, 4.55, 4.6, 4.65, 4.7, 4.75, 4.8, 4.85, 4.9, 4.95, 5.0, 5.05, 5.1, 5.15, 5.2, 5.25, 5.3, 5.35, 5.4, 5.45, 5.5, 5.55, 5.6, 5.65, 5.7, 5.75, 5.8, 5.85, 5.9, 5.95, 6.0, 6.05, 6.1, 6.15, 6.2, 6.25, 6.3, 6.35, 6.4, 6.45, 6.5, 6.55, 6.6, 6.65, 6.7, 6.75, 6.8, 6.85, 6.9, 6.95, 7.0, 7.05, 7.1, 7.15, 7.2, 7.25, 7.3, 7.35, 7.4, 7.45, 7.5, 7.55, 7.6, 7.65, 7.7, 7.75, 7.8, 7.85, 7.9, 7.95, 8.0, 8.05, 8.1, 8.15, 8.2, 8.25, 8.3, 8.35, 8.4, 8.45, 8.5, 8.55, 8.6, 8.65, 8.7, 8.75, 8.8, 8.85, 8.9, 8.95, 9.0, 9.05, 9.1, 9.15, 9.2, 9.25, 9.3, 9.35, 9.4, 9.45, 9.5, 9.55, 9.6, 9.65, 9.7, 9.75, 9.8, 9.85, 9.9, 9.95, 10.0, 10.05, 10.1, 10.15, 10.2, 10.25, 10.3, 10.35, 10.4, 10.45, 10.5, 10.55, 10.6, 10.65, 10.7, 10.75, 10.8, 10.85, 10.9, 10.95, 11.0, 11.05, 11.1, 11.15, 11.2, 11.25, 11.3, 11.35, 11.4, 11.45, 11.5, 11.55, 11.6, 11.65, 11.7, 11.75, 11.8, 11.85, 11.9, 11.95, 12.0, 12.05, 12.1, 12.15, 12.2, 12.25, 12.3, 12.35, 12.4, 12.45, 12.5, 12.55, 12.6, 12.65, 12.7, 12.75, 12.8, 12.85, 12.9, 12.95, 13.0, 13.05, 13.1, 13.15, 13.2, 13.25, 13.3, 13.35, 13.4, 13.45, 13.5, 13.55, 13.6, 13.65, 13.7, 13.75, 13.8, 13.85, 13.9, 13.95, 14.0, 14.05, 14.1, 14.15, 14.2, 14.25, 14.3, 14.35, 14.4, 14.45, 14.5, 14.55, 14.6, 14.65, 14.7, 14.75, 14.8, 14.85, 14.9, 14.95, 15.0, 15.05, 15.1, 15.15, 15.2, 15.25, 15.3, 15.35, 15.4, 15.45, 15.5, 15.55, 15.6, 15.65, 15.7, 15.75, 15.8, 15.85, 15.9, 15.95, 16.0, 16.05, 16.1, 16.15, 16.2, 16.25, 16.3, 16.35, 16.4, 16.45, 16.5, 16.55, 16.6, 16.65, 16.7, 16.75, 16.8, 16.85, 16.9, 16.95, 17.0, 17.05, 17.1, 17.15, 17.2, 17.25, 17.3, 17.35, 17.4, 17.45, 17.5, 17.55, 17.6, 17.65, 17.7, 17.75, 17.8, 17.85, 17.9, 17.95, 18.0, 18.05, 18.1, 18.15, 18.2, 18.25, 18.3, 18.35, 18.4, 18.45, 18.5, 18.55, 18.6, 18.65, 18.7, 18.75, 18.8, 18.85, 18.9, 18.95, 19.0, 19.05, 19.1, 19.15, 19.2, 19.25, 19.3, 19.35, 19.4, 19.45, 19.5, 19.55, 19.6, 19.65, 19.7, 19.75, 19.8, 19.85, 19.9, 19.95, 20.0, 20.05]\n"
     ]
    }
   ],
   "source": [
    "## Takes in files that has .lammps in their names. Limited to only the folder this scirpt is in.\n",
    "all_the_log_files = [f for f in os.listdir() if f.endswith('.lammps') and not os.path.isdir(f)]\n",
    "\n",
    "store_numpy_arrays = []\n",
    "\n",
    "# for i, log_file in enumerate(all_the_log_files):\n",
    "for i, log_file in enumerate(all_the_log_files):\n",
    "    print(log_file)\n",
    "    file_stem = log_file.replace('.log.lammps','')\n",
    "\n",
    "    ## Get the text from the log file\n",
    "    with open(log_file, 'r') as f:\n",
    "        txt = f.readlines()\n",
    "\n",
    "    col_check_str = '   Step          Temp       c_myFlux[1]  '\n",
    "    end_check_str = 'Loop time of '\n",
    "    columns = None\n",
    "    start_idx, end_idx = 0, len(txt)\n",
    "    \n",
    "    ## If the code detects a particular line, begin reading the entire section below that until a certain point\n",
    "    for line_idx, line in enumerate(txt):\n",
    "        if col_check_str in line:\n",
    "            columns = line.strip().split()\n",
    "            start_idx = line_idx + 1\n",
    "        if end_check_str in line and columns:\n",
    "            end_idx = line_idx - 1\n",
    "    \n",
    "    \n",
    "    data0 = txt[start_idx:end_idx + 1]\n",
    "    data = [row for row in data0 if len(row.split()) == 3] ## Should the log.lammps be cut off early, remove cut off row\n",
    "    columns_entry = None\n",
    "    \n",
    "    ## PRINT DEBUG\n",
    "#     print(columns)\n",
    "#     print(start_idx,end_idx)\n",
    "#     print(data0[-1:])\n",
    "\n",
    "    ## write the CSV file\n",
    "    csv_name = f'{file_stem}.csv'\n",
    "    with open(csv_name, 'w') as f:\n",
    "        f.write(\",\".join(columns) + \"\\n\")\n",
    "        for start_idx in data:\n",
    "            ## Check if the rows has all the columns. If it is missing all 14 columns, remove the entire row.\n",
    "            ## Suggested by Drew Rohskopf\n",
    "            columns_entry = start_idx.strip().split()\n",
    "            line_length = len(columns_entry)\n",
    "            if (line_length==3):\n",
    "                f.write(\",\".join(columns_entry) + \"\\n\")\n",
    "                \n",
    "    ## Create an array to store each elements in a column\n",
    "    arr = np.array([[float(element) for element in row.split()] for row in data])\n",
    "    store_numpy_arrays.append(arr)\n",
    "    \n",
    "    flux_arr = arr.copy()\n",
    "    \n",
    "    \n",
    "    col_flux = flux_arr[:,2]\n",
    "    #col_step = flux_arr[:,0]\n",
    "    \n",
    "    ## Array for timestep converted to picosecond\n",
    "    ps_arr = [] \n",
    "    snapshots = 1\n",
    "    \n",
    "    ## PRINT DEBUG\n",
    "    #print(col_flux)\n",
    "    #print(col_step)\n",
    "    \n",
    "    ## Calculate timesteps into picoseconds\n",
    "    for counter in data:\n",
    "        picoseconds = 0.0005 * 100 * snapshots\n",
    "        ps = round(picoseconds,2)\n",
    "        ps_arr.append(ps)\n",
    "        #print(ps)\n",
    "        snapshots = snapshots + 1\n",
    "    \n",
    "#     print(ps_arr)\n",
    "    \n"
   ]
  },
  {
   "cell_type": "code",
   "execution_count": null,
   "id": "7bbfda56",
   "metadata": {},
   "outputs": [],
   "source": []
  }
 ],
 "metadata": {
  "kernelspec": {
   "display_name": "Python [conda env:notebook] *",
   "language": "python",
   "name": "conda-env-notebook-py"
  },
  "language_info": {
   "codemirror_mode": {
    "name": "ipython",
    "version": 3
   },
   "file_extension": ".py",
   "mimetype": "text/x-python",
   "name": "python",
   "nbconvert_exporter": "python",
   "pygments_lexer": "ipython3",
   "version": "3.9.12"
  }
 },
 "nbformat": 4,
 "nbformat_minor": 5
}
